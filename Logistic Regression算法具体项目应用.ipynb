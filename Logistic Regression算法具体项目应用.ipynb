{
 "cells": [
  {
   "cell_type": "code",
   "execution_count": 2,
   "metadata": {},
   "outputs": [
    {
     "name": "stdout",
     "output_type": "stream",
     "text": [
      "numTest: 1\n",
      "accCount: 0\n",
      "the accuracy is : 0.0\n"
     ]
    }
   ],
   "source": [
    "\"\"\"用logistic regression分类预测病马的死亡率\"\"\"\n",
    "import numpy as np\n",
    "from numpy import *\n",
    "\n",
    "\"\"\"定义sigmoid函数\"\"\"\n",
    "def sigmoid(inX):\n",
    "    return 1.0/(1+exp(-inX))\n",
    "\n",
    "\"\"\"以回归系数和特征向量作为输入计算预测的类别\"\"\"\n",
    "def classify(inX,weights):\n",
    "    prediction = sigmoid(sum(inX * weights))\n",
    "    if prediction>0.5:\n",
    "        return 1.0\n",
    "    else:\n",
    "        return 0.0\n",
    "\n",
    "\"\"\"1.梯度上升法  采用批处理方式更新回归系数值.批处理:一次处理所有数据,回归系数的更新需要遍历整个数据集\"\"\"\n",
    "def GradAscent(dataMatIn,classlabels):\n",
    "    dataMatrix = mat(dataMatIn)\n",
    "    labelMatrix = mat(classlabels).transpose()\n",
    "    m,n = shape(dataMatrix)\n",
    "    alpha = 0.01\n",
    "    maxCycle = 1000 #设置最大循环次数\n",
    "    weights = ones((n,1))\n",
    "    for i in range(maxCycle):\n",
    "        pridiction = sigmoid(dataMatrix * weights)\n",
    "#         print(shape(labelMatrix))\n",
    "#         print(shape(pridiction))\n",
    "        error = labelMatrix - pridiction\n",
    "        weights = weights + alpha * dataMatrix.transpose() * error \n",
    "    return weights\n",
    "\n",
    "\"\"\"对训练集和测试集进行处理\"\"\"\n",
    "def dealdata():\n",
    "    frtrain = open('/home/jerry/GitRepository/JupyterProjects/dataset/horseColicTraining.txt')\n",
    "    frtest = open('/home/jerry/GitRepository/JupyterProjects/dataset/horseColicTest.txt')\n",
    "    trainSet = []\n",
    "    trainLabels = []\n",
    "    \"\"\"读取数据存到列表当中\"\"\"\n",
    "    for line in frtest.readlines():\n",
    "        currLine = line.strip().split('\\t')\n",
    "        lineArr = []\n",
    "        for i in range(21):  #csv文件总共有22列,前21列是数据,最后一列是标签\n",
    "            lineArr.append(float(currLine[i]))  #读取切分好的元素添加到lineArr当中\n",
    "#             print(lineArr)\n",
    "        trainSet.append(lineArr)  #存储整个训练集数据\n",
    "        trainLabels.append(int(currLine[21]))\n",
    "    trainWeights = GradAscent(trainSet,trainLabels)  #计算训练集的梯度\n",
    "    accCount = 0  #统计分类准确的个数\n",
    "    numTest = 1 #统计纳入分类统计的总数\n",
    "    \"\"\"加载测试集,并对每一个加载的数据进行测试分类正确性\"\"\"\n",
    "    try:\n",
    "        for line1 in frtest.readlines():\n",
    "            numTest = numTest + 1  #每次加载一行,计算参与分类数据+1\n",
    "            currLine1 = line1.strip().split('\\t')\n",
    "            lineArr1 = []\n",
    "            for i in range(21):\n",
    "                lineArr1.append(currLine1[i])\n",
    "            if int(classify(array(lineArr1),trainWeights)) == int(currLine1[21]):  #判断加载的每一个数据分类是否准确\n",
    "                accCount = accCount + 1\n",
    "        print('numTest:',numTest)\n",
    "        print('accCount:',accCount)\n",
    "\n",
    "        accuracy = (float(accCount) / numTest)\n",
    "        print('the accuracy is : %s' % accuracy)\n",
    "        return accuracy\n",
    "    except Exception as e:        \n",
    "        print(\"happened error:\",e)\n",
    "\n",
    "if __name__ == '__main__':\n",
    "    dealdata()   \n"
   ]
  },
  {
   "cell_type": "code",
   "execution_count": null,
   "metadata": {},
   "outputs": [],
   "source": []
  },
  {
   "cell_type": "code",
   "execution_count": null,
   "metadata": {},
   "outputs": [],
   "source": []
  },
  {
   "cell_type": "code",
   "execution_count": null,
   "metadata": {},
   "outputs": [],
   "source": []
  }
 ],
 "metadata": {
  "kernelspec": {
   "display_name": "Python 3",
   "language": "python",
   "name": "python3"
  },
  "language_info": {
   "codemirror_mode": {
    "name": "ipython",
    "version": 3
   },
   "file_extension": ".py",
   "mimetype": "text/x-python",
   "name": "python",
   "nbconvert_exporter": "python",
   "pygments_lexer": "ipython3",
   "version": "3.7.0"
  }
 },
 "nbformat": 4,
 "nbformat_minor": 2
}
