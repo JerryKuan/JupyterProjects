{
 "cells": [
  {
   "cell_type": "code",
   "execution_count": 1,
   "metadata": {},
   "outputs": [],
   "source": [
    "\"\"\"用logistic regression分类预测病马的死亡率\"\"\"\n",
    "import numpy as np\n",
    "\n",
    "\"\"\"以回归系数和特征向量作为输入计算预测的类别\"\"\"\n",
    "def classify(inX,weights):\n",
    "    prediction = sigmoid(sum(inX * weights))\n",
    "    if prediction>0.5:\n",
    "        return 1.0\n",
    "    else:\n",
    "        return 0.0\n",
    "    \n",
    "\"\"\"对训练集和测试集进行处理\"\"\"\n",
    "def dealdata():\n",
    "    frtrain = open('/home/jerry/GitRepository/JupyterProjects/dataset/horseColicTraining.txt')\n",
    "    frtest = open('/home/jerry/GitRepository/JupyterProjects/dataset/horseColicTest.txt')\n",
    "    trainSet = []\n",
    "    testSet = []\n",
    "    "
   ]
  },
  {
   "cell_type": "code",
   "execution_count": null,
   "metadata": {},
   "outputs": [],
   "source": []
  },
  {
   "cell_type": "code",
   "execution_count": null,
   "metadata": {},
   "outputs": [],
   "source": []
  },
  {
   "cell_type": "code",
   "execution_count": null,
   "metadata": {},
   "outputs": [],
   "source": []
  }
 ],
 "metadata": {
  "kernelspec": {
   "display_name": "Python 3",
   "language": "python",
   "name": "python3"
  },
  "language_info": {
   "codemirror_mode": {
    "name": "ipython",
    "version": 3
   },
   "file_extension": ".py",
   "mimetype": "text/x-python",
   "name": "python",
   "nbconvert_exporter": "python",
   "pygments_lexer": "ipython3",
   "version": "3.7.0"
  }
 },
 "nbformat": 4,
 "nbformat_minor": 2
}
