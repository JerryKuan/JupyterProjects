{
 "cells": [
  {
   "cell_type": "code",
   "execution_count": 22,
   "metadata": {},
   "outputs": [
    {
     "name": "stdout",
     "output_type": "stream",
     "text": [
      "accCount: 9\n",
      "numTest 10\n",
      "the accuracy is : 0.9\n"
     ]
    }
   ],
   "source": [
    "\"\"\"1.使用逻辑回归算法进行分类和预测鸢尾花类别\"\"\"\n",
    "import numpy as np\n",
    "from numpy import *\n",
    "import pandas as pd\n",
    "import csv\n",
    "from sklearn.model_selection import KFold\n",
    "\n",
    "\"\"\"定义sigmoid函数\"\"\"\n",
    "def sigmoid(inX):\n",
    "    return 1.0/(1+exp(-inX))\n",
    "\n",
    "\"\"\"以回归系数和特征向量作为输入计算预测的类别\"\"\"\n",
    "def classify(inX,weights):\n",
    "    prediction = sigmoid(sum(inX * weights))\n",
    "    if prediction>0.5:\n",
    "        return 1\n",
    "    else:\n",
    "        return 0\n",
    "\n",
    "\"\"\"1.梯度上升法  采用批处理方式更新回归系数值.批处理:一次处理所有数据,回归系数的更新需要遍历整个数据集\"\"\"\n",
    "def GradAscent(dataMatIn,classlabels):\n",
    "    dataMatrix = mat(dataMatIn)\n",
    "    labelMatrix = mat(classlabels).transpose()\n",
    "    m,n = shape(dataMatrix)\n",
    "    alpha = 0.0001\n",
    "    maxCycle = 1000 #设置最大循环次数\n",
    "    weights = ones((n,1))\n",
    "    for i in range(maxCycle):\n",
    "        pridiction = sigmoid(dataMatrix * weights)\n",
    "        error = labelMatrix - pridiction\n",
    "        weights = weights + alpha * dataMatrix.transpose() * error \n",
    "    return weights\n",
    "\n",
    "'''数据集划分，K折交叉验证'''\n",
    "def splitdata():\n",
    "    dataset = pd.read_csv('/Users/fanjiakuan/JupyterProject/data/iris2.csv')\n",
    "    kf = KFold(n_splits=10)\n",
    "    for train_index, test_index in kf.split(dataset):\n",
    "#         print(train_index)\n",
    "        train = dataset.loc[train_index].values\n",
    "        test = dataset.loc[test_index].values\n",
    "    train_x = train[:,0:4]\n",
    "    train_y = train[:,4]\n",
    "    test_x = test[:,0:4]\n",
    "    test_y = test[:,4]\n",
    "    return train_x,train_y,test_x,test_y\n",
    "    \n",
    "\"\"\"对训练集和测试集进行处理\"\"\"\n",
    "def dealdata(train_x, train_y, test_x, test_y):\n",
    "    trainWeights = GradAscent(train_x, train_y)  #计算训练集的梯度\n",
    "    accCount = 0  #统计分类准确的个数\n",
    "    numTest = 0 #统计纳入分类统计的总数\n",
    "    \n",
    "    \"\"\"加载测试集,并对每一个加载的数据进行测试分类正确性\"\"\"   \n",
    "    for i in range(len(test_y)):\n",
    "        numTest = numTest + 1  #每次加载一行,计算参与分类数据+1\n",
    "        if classify(test_x[i],trainWeights) == test_y[i]:  #判断加载的每一个数据分类是否准确\n",
    "            accCount = accCount + 1\n",
    "    accuracy = (float(accCount) / numTest)\n",
    "    print('accCount:',accCount)\n",
    "    print('numTest',numTest)\n",
    "    print('the accuracy is :', accuracy)       \n",
    "\n",
    "    return accuracy \n",
    "\n",
    "if __name__ == '__main__':\n",
    "    train_x, train_y, test_x, test_y = splitdata()\n",
    "    dealdata(train_x, train_y, test_x, test_y)\n"
   ]
  },
  {
   "cell_type": "code",
   "execution_count": null,
   "metadata": {
    "scrolled": false
   },
   "outputs": [],
   "source": []
  },
  {
   "cell_type": "code",
   "execution_count": 24,
   "metadata": {
    "scrolled": false
   },
   "outputs": [
    {
     "name": "stdout",
     "output_type": "stream",
     "text": [
      "准确率： 96.0 %\n"
     ]
    },
    {
     "data": {
      "image/png": "[encoded data removed]",
      "text/plain": [
       "<Figure size 432x288 with 1 Axes>"
      ]
     },
     "metadata": {},
     "output_type": "display_data"
    }
   ],
   "source": [
    "import pandas as pd\n",
    "import seaborn as sns\n",
    "import numpy as np\n",
    "import matplotlib.pyplot as plt\n",
    "from sklearn import datasets\n",
    "from sklearn import linear_model,model_selection\n",
    "%matplotlib inline\n",
    "import warnings\n",
    "warnings.filterwarnings('ignore')\n",
    "\n",
    "# 导入数据集\n",
    "iris = datasets.load_iris() \n",
    "lg = linear_model.LogisticRegression(multi_class='ovr') # 采用 one-vs-rest 的多分类策略\n",
    "predicted = model_selection.cross_val_predict(lg, iris.data, iris.target, cv=5) # 5个KFold交叉验证集\n",
    "# 判断分类正误率\n",
    "sums = 0\n",
    "for i in range(len(predicted)):\n",
    "    if predicted[i] == iris.target[i]:\n",
    "        sums += 1\n",
    "print('准确率：',sums * 100.0 / len(predicted),\"%\")\n",
    "# 制图\n",
    "fig, ax = plt.subplots() \n",
    "ax.plot(range(len(predicted)), predicted, 'gx', label='Predicted Class')\n",
    "ax.plot(range(len(iris.target)), iris.target, 'r--', label='True Class')\n",
    "plt.show()\n"
   ]
  },
  {
   "cell_type": "code",
   "execution_count": null,
   "metadata": {},
   "outputs": [],
   "source": []
  }
 ],
 "metadata": {
  "kernelspec": {
   "display_name": "Python 3",
   "language": "python",
   "name": "python3"
  },
  "language_info": {
   "codemirror_mode": {
    "name": "ipython",
    "version": 3
   },
   "file_extension": ".py",
   "mimetype": "text/x-python",
   "name": "python",
   "nbconvert_exporter": "python",
   "pygments_lexer": "ipython3",
   "version": "3.6.5"
  }
 },
 "nbformat": 4,
 "nbformat_minor": 2
}
