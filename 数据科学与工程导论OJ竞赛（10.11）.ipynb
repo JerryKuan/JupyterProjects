{
 "cells": [
  {
   "cell_type": "code",
   "execution_count": null,
   "metadata": {},
   "outputs": [],
   "source": [
    "#降序排序\n",
    "str_in = input()\n",
    "num = list(map(int,str_in.strip().split()))\n",
    "result = sorted(num,reverse=True)\n",
    "print(result)"
   ]
  },
  {
   "cell_type": "code",
   "execution_count": null,
   "metadata": {},
   "outputs": [],
   "source": [
    "#A+B C++实现\n",
    "#include<iostream>\n",
    "using namespace std;\n",
    "int main()\n",
    "{\n",
    "\tint a,b;\n",
    "  \tcin>>a>>b;  \t\n",
    "  \tcout<<a+b<<endl;\n",
    "  \treturn 0; \t\n",
    "  \t\n",
    "}"
   ]
  },
  {
   "cell_type": "code",
   "execution_count": 12,
   "metadata": {},
   "outputs": [
    {
     "name": "stdout",
     "output_type": "stream",
     "text": [
      "2 5\n",
      "1\n"
     ]
    }
   ],
   "source": [
    "#求指定区间奇数个数\n",
    "def print_odd(a,b):\n",
    "    count = 0\n",
    "    for item in range(a,b):\n",
    "        if item%2 != 0:\n",
    "            count = count+1\n",
    "    print(count)    \n",
    "str_in = input()\n",
    "num1,num2 = list(map(int,str_in.strip().split()))\n",
    "print_odd(num1,num2)\n"
   ]
  },
  {
   "cell_type": "code",
   "execution_count": null,
   "metadata": {},
   "outputs": [],
   "source": []
  },
  {
   "cell_type": "code",
   "execution_count": null,
   "metadata": {},
   "outputs": [],
   "source": []
  }
 ],
 "metadata": {
  "kernelspec": {
   "display_name": "Python 3",
   "language": "python",
   "name": "python3"
  },
  "language_info": {
   "codemirror_mode": {
    "name": "ipython",
    "version": 3
   },
   "file_extension": ".py",
   "mimetype": "text/x-python",
   "name": "python",
   "nbconvert_exporter": "python",
   "pygments_lexer": "ipython3",
   "version": "3.7.0"
  }
 },
 "nbformat": 4,
 "nbformat_minor": 2
}
