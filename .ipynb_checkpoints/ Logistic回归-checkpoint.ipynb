{
 "cells": [
  {
   "cell_type": "code",
   "execution_count": 92,
   "metadata": {},
   "outputs": [],
   "source": [
    "\"\"\"1.梯度上升法  采用批处理方式更新回归系数值.批处理:一次处理所有数据,回归系数的更新需要遍历整个数据集\"\"\"\n",
    "def GradAscent(dataMatIn,classlabels):\n",
    "    dataMatrix = mat(dataMatIn)\n",
    "    labelMatrix = mat(classlabels).transpose()\n",
    "    m,n = shape(dataMatrix)\n",
    "    alpha = 0.01\n",
    "    maxCycle = 1000 #设置最大循环次数\n",
    "    weights = ones((n,1))\n",
    "    for i in range(maxCycle):\n",
    "        pridiction = sigmoid(dataMatrix * weights)\n",
    "        error = labelMatrix - pridiction\n",
    "        weights = weights + alpha * dataMatrix.transpose() * error \n",
    "    return weights"
   ]
  },
  {
   "cell_type": "code",
   "execution_count": 91,
   "metadata": {},
   "outputs": [
    {
     "data": {
      "text/plain": [
       "array([[1.],\n",
       "       [1.],\n",
       "       [1.]])"
      ]
     },
     "execution_count": 91,
     "metadata": {},
     "output_type": "execute_result"
    }
   ],
   "source": [
    "\"\"\"ones()表示生成全是1的数组,参数可以生成n行m列,类似的用法还有zeros(),empty();'.T表示矩阵的转置,全称为transpose'\"\"\"\n",
    "import numpy as np \n",
    "a = ones([1,3]).transpose()\n",
    "a"
   ]
  },
  {
   "cell_type": "code",
   "execution_count": 93,
   "metadata": {},
   "outputs": [],
   "source": [
    "\"\"\"2.随机梯度上升法  采用在线学习方式更新回归系数值.在线学习:一次只处理一个数据,回归系数的更新只需要随机选一个点\"\"\"\n",
    "def StocGradAscent(dataMatrix,labelMatrix):\n",
    "    m,n = shape(dataMatrix)\n",
    "    alpha  = 0.01\n",
    "    weights = ones(n)\n",
    "    for i in range(m):\n",
    "        prediction = sigmoid(sum(dataMatrix[i] * weights))\n",
    "        error = labelMatrix[i] - prediction\n",
    "        weights = weights + alpha * error * dataMatrix[i] \n",
    "    return weights"
   ]
  },
  {
   "cell_type": "code",
   "execution_count": 94,
   "metadata": {},
   "outputs": [],
   "source": [
    "\"\"\"3.随机梯度上升法_improved_V1  1.动态更新alpha值 2.随机选取更新点\"\"\"\n",
    "def StocGradAscent(dataMatrix,labelMatrix,numIter = 150):\n",
    "    m,n = shape(dataMatrix)\n",
    "    weights = ones(n)\n",
    "    for j in range(numIter):\n",
    "        dataIndex = range(m)\n",
    "        for i in range(m):\n",
    "            alpha = 4/(1.0+j+i) + 0.01   #动态更新alpha值,越来越小,但最小不会超过0.01\n",
    "            randIndex = int(random.uniform(0,len(dataMatrix)))\n",
    "            prediction = sigmoid(sum(dataMatrix[randIndex] * weights))  #随机选取更新点,避免连续点引起的周期性抖动\n",
    "            error = labelMatrix[randIndex] - prediction\n",
    "            weights = weights + alpha * error * dataMatrix[randIndex]\n",
    "            del(dataIndex[randIndex])   \n",
    "    return weights"
   ]
  },
  {
   "cell_type": "code",
   "execution_count": 95,
   "metadata": {},
   "outputs": [
    {
     "data": {
      "image/png": "[encoded data removed]",
      "text/plain": [
       "<Figure size 432x288 with 1 Axes>"
      ]
     },
     "metadata": {
      "needs_background": "light"
     },
     "output_type": "display_data"
    }
   ],
   "source": [
    "\"\"\"逻辑回归算法__1.梯度上升法\"\"\"\n",
    "import numpy as np\n",
    "import matplotlib.pyplot as plt\n",
    "\n",
    "\"\"\"加载数据集,将数据集中两列数据分别保存到datamat和labelmat\"\"\"\n",
    "def loadDataSet():   \n",
    "    dataMat = []\n",
    "    labelMat = []\n",
    "    fr = open('/home/jerry/文档/testset.csv')\n",
    "    for line in fr.readlines():\n",
    "        lineArr = line.strip().split()\n",
    "        dataMat.append([1.0,float(lineArr[0]),float(lineArr[1])])  #生成一个包含三个元素的列表,且第一个全是1\n",
    "        labelMat.append(int (lineArr[2]))\n",
    "    fr.close()\n",
    "    return dataMat,labelMat\n",
    "\n",
    "\"\"\"求解最佳拟合的一组回归系数,确定了不同类别之间的分割线\"\"\"\n",
    "def gradAscent(dataMatIn,classLables):\n",
    "    dataMatrix = mat(dataMatIn)\n",
    "#     print(dataMatrix)\n",
    "    labelMat = mat(classLables).transpose()\n",
    "    m,n = shape(dataMatrix)\n",
    "#     print(m,n)\n",
    "    alpha = 0.001\n",
    "    maxCycles = 500\n",
    "    weights = ones((n,1))\n",
    "    for k in range(maxCycles):\n",
    "        h = sigmoid(dataMatrix*weights)\n",
    "        error = (labelMat - h)\n",
    "        weights = weights + alpha * dataMatrix.transpose()*error\n",
    "#     print(h)\n",
    "    return weights.getA()\n",
    "\n",
    "\"\"\"绘制决策边界\"\"\"\n",
    "def plotBestFit(weights):\n",
    "    dataMat,labelMat = loadDataSet()\n",
    "    dataArr = np.array(dataMat)  #将datamat转换为numpy数组\n",
    "    n = np.shape(dataMat)[0]\n",
    "    xcord1 = [];ycord1 = []  #正样本\n",
    "    xcord2 = [];ycord2 = []  #负样本\n",
    "    for i in range(n):\n",
    "        if int(labelMat[i]) == 1:\n",
    "            xcord1.append(dataArr[i,1])\n",
    "            ycord1.append(dataArr[i,2])\n",
    "        else:\n",
    "            xcord2.append(dataArr[i,1])\n",
    "            ycord2.append(dataArr[i,2])\n",
    "    fig = plt.figure()\n",
    "    ax = fig.add_subplot(111)\n",
    "    ax.scatter(xcord1, ycord1, s = 20, c = 'red', marker = 's', alpha = 0.5)\n",
    "    ax.scatter(xcord2, ycord2, s = 20, c = 'green', alpha = 0.5)\n",
    "    x = np.arange(-3.0, 3.0, 0.1)\n",
    "    y = (-weights[0] - weights[1]*x) / weights[2]\n",
    "    ax.plot(x,y)\n",
    "    plt.title('BestFit')\n",
    "    plt.xlabel('x1')\n",
    "    plt.ylabel('x2')\n",
    "    plt.show()\n",
    "    \n",
    "if __name__ == '__main__':\n",
    "    dataMat,labelMat = loadDataSet()\n",
    "    weights = gradAscent(dataMat,labelMat)\n",
    "    plotBestFit(weights)"
   ]
  },
  {
   "cell_type": "code",
   "execution_count": 47,
   "metadata": {},
   "outputs": [],
   "source": [
    "\"\"\"逻辑回归算法__2.随机梯度上升法\"\"\"\n",
    "import numpy as np\n",
    "import matplotlib.pyplot as plt\n",
    "import random\n",
    "\n",
    "\"\"\"加载数据集,将数据集中两列数据分别保存到datamat和labelmat\"\"\"\n",
    "def loadDataSet():   \n",
    "    dataMat = []\n",
    "    labelMat = []\n",
    "    fr = open('/home/jerry/文档/testset.csv')\n",
    "    for line in fr.readlines():\n",
    "        lineArr = line.strip().split()\n",
    "        dataMat.append([1.0,float(lineArr[0]),float(lineArr[1])])  #生成一个包含三个元素的列表,且第一个全是1\n",
    "        labelMat.append(int (lineArr[2]))\n",
    "    fr.close()\n",
    "    return dataMat,labelMat\n",
    "\n",
    "\"\"\"求解最佳拟合的一组回归系数,确定了不同类别之间的分割线\"\"\"\n",
    "def StocGradAscent(dataMatrix,labelMatrix):\n",
    "    m,n = shape(dataMatrix)\n",
    "    alpha  = 0.01\n",
    "    weights = ones(n)\n",
    "    for i in range(m):\n",
    "        prediction = sigmoid(sum(dataMatrix[i] * weights))\n",
    "        error = labelMatrix[i] - prediction\n",
    "        weights = weights + alpha * error * dataMatrix[i] \n",
    "    return weights\n",
    "\n",
    "\"\"\"绘制决策边界\"\"\"\n",
    "def plotBestFit(weights):\n",
    "    dataMat,labelMat = loadDataSet()\n",
    "    dataArr = np.array(dataMat)  #将datamat转换为numpy数组\n",
    "    n = np.shape(dataMat)[0]\n",
    "    xcord1 = [];ycord1 = []  #正样本\n",
    "    xcord2 = [];ycord2 = []  #负样本\n",
    "    for i in range(n):\n",
    "        if int(labelMat[i]) == 1:\n",
    "            xcord1.append(dataArr[i,1])\n",
    "            ycord1.append(dataArr[i,2])\n",
    "        else:\n",
    "            xcord2.append(dataArr[i,1])\n",
    "            ycord2.append(dataArr[i,2])\n",
    "    fig = plt.figure()\n",
    "    ax = fig.add_subplot(111)\n",
    "    ax.scatter(xcord1, ycord1, s = 20, c = 'red', marker = 's', alpha = 0.5)\n",
    "    ax.scatter(xcord2, ycord2, s = 20, c = 'green', alpha = 0.5)\n",
    "    x = np.arange(-3.0, 3.0, 0.1)\n",
    "    y = (-weights[0] - weights[1]*x) / weights[2]\n",
    "    ax.plot(x,y)\n",
    "    plt.title('BestFit')\n",
    "    plt.xlabel('x1')\n",
    "    plt.ylabel('x2')\n",
    "    plt.show()\n",
    "    \n",
    "if __name__ == '__main__':\n",
    "    dataMat,labelMat = loadDataSet()\n",
    "    weights = StocGradAscent(array(dataMat),labelMat)\n",
    "    plotBestFit(weights)"
   ]
  },
  {
   "cell_type": "code",
   "execution_count": null,
   "metadata": {
    "scrolled": true
   },
   "outputs": [],
   "source": []
  },
  {
   "cell_type": "code",
   "execution_count": 90,
   "metadata": {},
   "outputs": [
    {
     "data": {
      "image/png": "[encoded data removed]",
      "text/plain": [
       "<Figure size 432x288 with 1 Axes>"
      ]
     },
     "metadata": {
      "needs_background": "light"
     },
     "output_type": "display_data"
    }
   ],
   "source": [
    "\"\"\"逻辑回归算法__3.随机梯度上升法_improved_V1\"\"\"\n",
    "import numpy as np\n",
    "import matplotlib.pyplot as plt\n",
    "import random\n",
    "\n",
    "\"\"\"加载数据集,将数据集中两列数据分别保存到datamat和labelmat\"\"\"\n",
    "def loadDataSet():   \n",
    "    dataMat = []\n",
    "    labelMat = []\n",
    "    fr = open('/home/jerry/文档/testset.csv')\n",
    "    for line in fr.readlines():\n",
    "        lineArr = line.strip().split()\n",
    "        dataMat.append([1.0,float(lineArr[0]),float(lineArr[1])])  #生成一个包含三个元素的列表,且第一个全是1\n",
    "        labelMat.append(int (lineArr[2]))\n",
    "    fr.close()\n",
    "    return dataMat,labelMat\n",
    "\n",
    "\"\"\"求解最佳拟合的一组回归系数,确定了不同类别之间的分割线\"\"\"\n",
    "def StocGradAscent(dataMatrix,labelMatrix,numIter = 150):\n",
    "    m,n = shape(dataMatrix)\n",
    "    weights = ones(n)\n",
    "    for j in range(numIter):\n",
    "        dataIndex = list(range(m))\n",
    "#         print(dataIndex)\n",
    "        for i in range(m):\n",
    "            alpha = 4/(1.0+j+i) + 0.01   #动态更新alpha值,越来越小,但最小不会超过0.01\n",
    "            randIndex = int(random.uniform(0,len(dataMatrix)))\n",
    "            prediction = sigmoid(sum(dataMatrix[randIndex] * weights))  #随机选取更新点,避免连续点引起的周期性抖动\n",
    "            error = labelMatrix[randIndex] - prediction\n",
    "            weights = weights + alpha * error * dataMatrix[randIndex]\n",
    "#             del(dataIndex[randIndex])   \n",
    "    return weights\n",
    "\n",
    "\"\"\"绘制决策边界\"\"\"\n",
    "def plotBestFit(weights):\n",
    "    dataMat,labelMat = loadDataSet()\n",
    "    dataArr = np.array(dataMat)  #将datamat转换为numpy数组\n",
    "    n = np.shape(dataMat)[0]\n",
    "    xcord1 = [];ycord1 = []  #正样本\n",
    "    xcord2 = [];ycord2 = []  #负样本\n",
    "    for i in range(n):\n",
    "        if int(labelMat[i]) == 1:\n",
    "            xcord1.append(dataArr[i,1])\n",
    "            ycord1.append(dataArr[i,2])\n",
    "        else:\n",
    "            xcord2.append(dataArr[i,1])\n",
    "            ycord2.append(dataArr[i,2])\n",
    "    fig = plt.figure()\n",
    "    ax = fig.add_subplot(111)\n",
    "    ax.scatter(xcord1, ycord1, s = 20, c = 'red', marker = 's', alpha = 0.5)\n",
    "    ax.scatter(xcord2, ycord2, s = 20, c = 'green', alpha = 0.5)\n",
    "    x = np.arange(-3.0, 3.0, 0.1)\n",
    "    y = (-weights[0] - weights[1]*x) / weights[2]\n",
    "    ax.plot(x,y)\n",
    "    plt.title('BestFit')\n",
    "    plt.xlabel('x1')\n",
    "    plt.ylabel('x2')\n",
    "    plt.show()\n",
    "    \n",
    "if __name__ == '__main__':\n",
    "    dataMat,labelMat = loadDataSet()\n",
    "    weights = StocGradAscent(array(dataMat),labelMat)\n",
    "    plotBestFit(weights)"
   ]
  },
  {
   "cell_type": "code",
   "execution_count": null,
   "metadata": {},
   "outputs": [],
   "source": []
  },
  {
   "cell_type": "code",
   "execution_count": null,
   "metadata": {},
   "outputs": [],
   "source": []
  },
  {
   "cell_type": "code",
   "execution_count": null,
   "metadata": {},
   "outputs": [],
   "source": []
  }
 ],
 "metadata": {
  "kernelspec": {
   "display_name": "Python 3",
   "language": "python",
   "name": "python3"
  },
  "language_info": {
   "codemirror_mode": {
    "name": "ipython",
    "version": 3
   },
   "file_extension": ".py",
   "mimetype": "text/x-python",
   "name": "python",
   "nbconvert_exporter": "python",
   "pygments_lexer": "ipython3",
   "version": "3.7.0"
  }
 },
 "nbformat": 4,
 "nbformat_minor": 2
}
