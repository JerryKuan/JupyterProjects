{
 "cells": [
  {
   "cell_type": "code",
   "execution_count": null,
   "metadata": {
    "collapsed": true
   },
   "outputs": [],
   "source": [
    "#lab2 习题1\n",
    "#至少用3种方法求解Pi的值，并比较它们的效率（精度保留到小数点后10位）\n"
   ]
  },
  {
   "cell_type": "code",
   "execution_count": 1,
   "metadata": {},
   "outputs": [
    {
     "name": "stdout",
     "output_type": "stream",
     "text": [
      "3.1415926536\n"
     ]
    }
   ],
   "source": [
    "#viete 公式\n",
    "import math\n",
    "def Pi_viete(n):\n",
    "    \n",
    "    a = math.sqrt(2)\n",
    "    p =2\n",
    "    for i in range(1,n):\n",
    "        p = p*2/a\n",
    "        a = math.sqrt(2+a)\n",
    "    print (\"%.10f\"%p)\n",
    "Pi_viete(20)"
   ]
  },
  {
   "cell_type": "code",
   "execution_count": 2,
   "metadata": {},
   "outputs": [
    {
     "name": "stdout",
     "output_type": "stream",
     "text": [
      "3.1415918682\n"
     ]
    }
   ],
   "source": [
    "#wallis\n",
    "import math\n",
    "def Pi_wallis(n):\n",
    "    p = 1\n",
    "    for i in range(1,n+1):\n",
    "        p = p*(2*i)**2/((2*i-1)*(2*i+1))\n",
    "    p = p*2\n",
    "    print (\"%.10f\"%p)\n",
    "Pi_wallis(1000000)"
   ]
  },
  {
   "cell_type": "code",
   "execution_count": null,
   "metadata": {},
   "outputs": [
    {
     "name": "stdout",
     "output_type": "stream",
     "text": [
      "start\n",
      "1\n",
      "2\n",
      "3\n",
      "4\n",
      "5\n"
     ]
    }
   ],
   "source": [
    "import math\n",
    "def Pi_lama(n):\n",
    "    p = 0\n",
    "    print (\"start\")\n",
    "    for i in range(1,n):\n",
    "        print (i)\n",
    "        p+=(1/math.factorial(math.factorial(2*i-1)))\n",
    "    p = (p**2)*2/math.e\n",
    "    print (\"%.10f\"%p)\n",
    "Pi_lama(10)"
   ]
  },
  {
   "cell_type": "code",
   "execution_count": 7,
   "metadata": {},
   "outputs": [
    {
     "name": "stdout",
     "output_type": "stream",
     "text": [
      "3.1415926536\n"
     ]
    }
   ],
   "source": [
    "def Gauss_Legendre(n):\n",
    "    a =1\n",
    "    b = 1/math.sqrt(2)\n",
    "    t = 1/4\n",
    "    p = 1\n",
    "    for i in range(n):\n",
    "        a_ = (a + b)/2\n",
    "        b_ =  math.sqrt(a*b)\n",
    "        t_ = t - p*(a - a_)**2\n",
    "        p_ = 2*p\n",
    "        a , b, t, p = a_,b_,t_,p_\n",
    "    pi = (a+b)**2/(4*t)\n",
    "    print (\"%.10f\"%pi)\n",
    "Gauss_Legendre(3)"
   ]
  },
  {
   "cell_type": "code",
   "execution_count": 10,
   "metadata": {},
   "outputs": [
    {
     "data": {
      "text/plain": [
       "1.412193"
      ]
     },
     "execution_count": 10,
     "metadata": {},
     "output_type": "execute_result"
    }
   ],
   "source": [
    "#lab2 习题2\n",
    "#根据蒙特卡洛法的思想，设计求解根号2的第四种方法。\n",
    "import random\n",
    "import math\n",
    "#import matplotlib.pyplot as plt\n",
    "def square_root_4(times):\n",
    "    sum = 0\n",
    "    for i in range(times):\n",
    "        x = random.uniform(0,2)\n",
    "        y = random.uniform(0,2)\n",
    "        d = math.sqrt(x) - y\n",
    "        if d > 0:\n",
    "            sum+=1\n",
    "    return (3*sum)/(times)\n",
    "square_root_4(1000000)"
   ]
  },
  {
   "cell_type": "code",
   "execution_count": null,
   "metadata": {
    "collapsed": true
   },
   "outputs": [],
   "source": []
  },
  {
   "cell_type": "code",
   "execution_count": 49,
   "metadata": {},
   "outputs": [
    {
     "name": "stdout",
     "output_type": "stream",
     "text": [
      "18\n",
      "10010"
     ]
    }
   ],
   "source": [
    "#lab3练习\n",
    "#编写Python程序，完成十-二 进制小数转换。输入是一个十进制的小数，例如输入“123”，代表的小数0.123\n",
    "x = int(input())\n",
    "r = 0\n",
    "Rs = []\n",
    "while(x!=0):\n",
    "    r = x%2\n",
    "    x = x//2\n",
    "    Rs = [r] + Rs\n",
    "for i in range(0,len(Rs)):\n",
    "    print(Rs[i],end='')"
   ]
  },
  {
   "cell_type": "code",
   "execution_count": 56,
   "metadata": {},
   "outputs": [
    {
     "name": "stdout",
     "output_type": "stream",
     "text": [
      "18\n",
      "[1, 0, 0, 1, 0]\n",
      "10010"
     ]
    }
   ],
   "source": [
    "def dec2bin(x):\n",
    "    if x <2 :\n",
    "        return [x]\n",
    "    r = x%2\n",
    "    return (dec2bin(x//2) + [r])\n",
    "    #return ([r] + dec2bin(x//2))\n",
    "num = int(input())\n",
    "Rs = dec2bin(num)\n",
    "print (Rs)\n",
    "for i in range(0,len(Rs)):\n",
    "    print(Rs[i],end='')"
   ]
  },
  {
   "cell_type": "code",
   "execution_count": 2,
   "metadata": {},
   "outputs": [
    {
     "name": "stdout",
     "output_type": "stream",
     "text": [
      "18\n",
      "01001"
     ]
    }
   ],
   "source": [
    "def dec2bin(x):\n",
    "    if x <2 :\n",
    "        return [x]\n",
    "    r = x%2\n",
    "    #return (dec2bin(x//2) + [r])\n",
    "    return ([r] + dec2bin(x//2))\n",
    "num = int(input())\n",
    "Rs = dec2bin(num)\n",
    "for i in range(0,len(Rs)):\n",
    "    print(Rs[i],end='')"
   ]
  },
  {
   "cell_type": "code",
   "execution_count": 1,
   "metadata": {
    "scrolled": true
   },
   "outputs": [
    {
     "name": "stdout",
     "output_type": "stream",
     "text": [
      "0.8\n",
      "[1, 1, 0, 0, 1, 1, 0, 0, 1, 1, 0, 0, 1, 1, 0, 0, 1, 1, 0, 0, 1, 1, 0, 0, 1, 1, 0, 0, 1, 1, 0, 0, 1, 1, 0, 0, 1, 1, 0, 0, 1, 1, 0, 0, 1, 1, 0, 0, 1, 1, 0, 1]\n"
     ]
    }
   ],
   "source": [
    "#编写Python程序，完成十-二 进制小数转换。输入是一个十进制的小数，输出转换后的二进制\n",
    "def dec2bin(x):\n",
    "    x -= int(x)\n",
    "    bins = []\n",
    "    while x:\n",
    "        x *= 2\n",
    "        bins.append(1 if x>=1. else 0)\n",
    "        x -= int(x)\n",
    "    return bins\n",
    "x = float(input())\n",
    "bins = dec2bin(x)\n",
    "print (bins)\n",
    "    "
   ]
  },
  {
   "cell_type": "code",
   "execution_count": 2,
   "metadata": {},
   "outputs": [
    {
     "name": "stdout",
     "output_type": "stream",
     "text": [
      "[0, 1, 2, 3, 4, 5, 6, 7, 8, 9]\n"
     ]
    }
   ],
   "source": [
    "r = []\n",
    "for i in range(10):\n",
    "    r = r + [i] \n",
    "print (r)"
   ]
  },
  {
   "cell_type": "code",
   "execution_count": null,
   "metadata": {
    "collapsed": true
   },
   "outputs": [],
   "source": []
  },
  {
   "cell_type": "code",
   "execution_count": 6,
   "metadata": {
    "scrolled": false
   },
   "outputs": [
    {
     "name": "stdout",
     "output_type": "stream",
     "text": [
      "110.11\n",
      "2\n",
      "6.75\n"
     ]
    }
   ],
   "source": [
    "#b2dec\n",
    "#请写Python程序完成b-十的实数转换。b是任意小于等于10，并且大于等于2的数。\n",
    "def b2dec_int(x,b):\n",
    "    d =0\n",
    "    weight = b**(len(x)-1)\n",
    "    for i in range(len(x)):\n",
    "        if x[i] =='1':\n",
    "            d = d+ weight\n",
    "        weight = weight // b\n",
    "    #print (d)\n",
    "    return d\n",
    "\n",
    "def b2dec_float(y,b):\n",
    "    d = 0\n",
    "    for i in range(len(y)):\n",
    "        if y[i]=='1':\n",
    "            d += b**(-(i+1))\n",
    "    #print (d)\n",
    "    return d\n",
    "\n",
    "def b2dec(s,b):\n",
    "    x,y = s.split('.')\n",
    "    #print (x,y)\n",
    "    x_=b2dec_int(x,b)\n",
    "    y_=b2dec_float(y,b)\n",
    "    print (x_+y_)\n",
    "\n",
    "x = input()\n",
    "b = int(input())\n",
    "b2dec(x,b)\n",
    "    "
   ]
  },
  {
   "cell_type": "code",
   "execution_count": 3,
   "metadata": {},
   "outputs": [
    {
     "name": "stdout",
     "output_type": "stream",
     "text": [
      "10.75\n",
      "1010.11\n"
     ]
    }
   ],
   "source": [
    "#完成十进制到二进制的包含小数的转换。输入时一个带小数点的十进制数，输出是带小数点的二进制数。\n",
    "\n",
    "def dec2bin_int(x):\n",
    "    if x <2 :\n",
    "        return [x]\n",
    "    r = x%2\n",
    "    return (dec2bin_int(x//2) + [r])\n",
    "\n",
    "def dec2bin_float(x):\n",
    "    x -= int(x)\n",
    "    bins = []\n",
    "    while x:\n",
    "        x *= 2\n",
    "        bins.append(1 if x>=1. else 0)\n",
    "        x -= int(x)\n",
    "    return bins\n",
    "\n",
    "def dec2bin(num):\n",
    "    x = int (num)\n",
    "    y = num - int(num)\n",
    "    #print (x,y)\n",
    "    x_=dec2bin_int(x)\n",
    "    y_=dec2bin_float(y)\n",
    "    s = ''\n",
    "    for i in x_:\n",
    "        s=s+str(i)\n",
    "    s+='.'\n",
    "    for i in y_:\n",
    "        s+=str(i)\n",
    "    print (s)\n",
    "x = float(input())\n",
    "dec2bin(x)"
   ]
  },
  {
   "cell_type": "code",
   "execution_count": 32,
   "metadata": {
    "scrolled": true
   },
   "outputs": [
    {
     "name": "stdout",
     "output_type": "stream",
     "text": [
      "[1, 3]\n",
      "[0, 3]\n",
      "[2, 2]\n",
      "[1, 2]\n",
      "[0, 2]\n"
     ]
    }
   ],
   "source": [
    "#找牌\n",
    "def findP(L):\n",
    "    for i in range(len(L)):\n",
    "        new = L.copy()\n",
    "        for j in range(1,L[i]+1):\n",
    "            new[i] -= j\n",
    "            print (sorted(new))\n",
    "            new = L.copy()\n",
    "L = [2,3]\n",
    "findP(L)      "
   ]
  },
  {
   "cell_type": "code",
   "execution_count": 4,
   "metadata": {
    "scrolled": false
   },
   "outputs": [
    {
     "name": "stdout",
     "output_type": "stream",
     "text": [
      "[0, 1, 2, 4, 5, 7, 9]\n"
     ]
    }
   ],
   "source": [
    "#排序\n",
    "def merge(L1,L2):\n",
    "    i = 0\n",
    "    j = 0\n",
    "    L = []\n",
    "    while (i<len(L1)) & (j<len(L2)):\n",
    "        if L1[i]<L2[j]:\n",
    "            L.append(L1[i])\n",
    "            i+=1\n",
    "            #print (\"i\",i)\n",
    "        else :\n",
    "            L.append(L2[j])\n",
    "            j+=1\n",
    "            #print (\"j\",j)\n",
    "    if i==len(L1):\n",
    "        for k in range(j,len(L2)):\n",
    "            L.append(L2[k])\n",
    "    if j==len(L2) :\n",
    "        for k in range(i,len(L1)):\n",
    "            L.append(L1[k])\n",
    "    print (L)\n",
    "L1 = [1,4,5]\n",
    "L2 = [0,2,7,9,]\n",
    "merge(L1,L2)"
   ]
  },
  {
   "cell_type": "code",
   "execution_count": 6,
   "metadata": {},
   "outputs": [
    {
     "ename": "SyntaxError",
     "evalue": "invalid syntax (<ipython-input-6-5584f498eb49>, line 16)",
     "output_type": "error",
     "traceback": [
      "\u001b[0;36m  File \u001b[0;32m\"<ipython-input-6-5584f498eb49>\"\u001b[0;36m, line \u001b[0;32m16\u001b[0m\n\u001b[0;31m    x =\u001b[0m\n\u001b[0m        ^\u001b[0m\n\u001b[0;31mSyntaxError\u001b[0m\u001b[0;31m:\u001b[0m invalid syntax\n"
     ]
    }
   ],
   "source": [
    "import numpy as np\n",
    "\n",
    "\"\"\"加载数据集\"\"\"\n",
    "def loadDataSet():\n",
    "    x = [];y = []\n",
    "    fr = open('/home/jerry/文档/testset.csv')\n",
    "    for i in fr.readlines():\n",
    "        line = i.strip().split()\n",
    "        x.append([1.0, float(line[0]), float(line[1])])\n",
    "        y.append(float(line[2]))\n",
    "    return x,y\n",
    "\n",
    "\"\"\"求解一组最佳回归系数\"\"\"\n",
    "def gradAscent():\n",
    "    y_matrix = mat(y)\n",
    "    x = \n",
    "\n",
    "if __name__ == '__main__':\n",
    "    x,y = loadDataSet()\n",
    "   "
   ]
  },
  {
   "cell_type": "code",
   "execution_count": null,
   "metadata": {
    "collapsed": true
   },
   "outputs": [],
   "source": []
  }
 ],
 "metadata": {
  "kernelspec": {
   "display_name": "Python 3",
   "language": "python",
   "name": "python3"
  },
  "language_info": {
   "codemirror_mode": {
    "name": "ipython",
    "version": 3
   },
   "file_extension": ".py",
   "mimetype": "text/x-python",
   "name": "python",
   "nbconvert_exporter": "python",
   "pygments_lexer": "ipython3",
   "version": "3.7.0"
  }
 },
 "nbformat": 4,
 "nbformat_minor": 2
}
